{
 "cells": [
  {
   "cell_type": "code",
   "execution_count": null,
   "metadata": {},
   "outputs": [],
   "source": [
    "from transformers import AutoModelForCausalLM, AutoTokenizer, BitsAndBytesConfig, HfArgumentParser, TrainingArguments, pipeline, logging, TextStreamer\n",
    "from peft import LoraConfig, PeftModel, prepare_model_for_kbit_training, get_peft_model\n",
    "import os, torch, wandb, platform, gradio, warnings\n",
    "from datasets import Dataset\n",
    "from trl import SFTTrainer\n",
    "\n",
    "# Training System Message\n",
    "system_message = \"You are a \"\n",
    "# Choose your model\n",
    "base_model, fc_lora = \"output/merged/Zephyr7B_FunctionCaller_v1\", \"output/Zephyr_HUSH_General_Assistant_v0.01/checkpoint-1959\"\n",
    "save_path = \"output/merged/Zephyr7B_HUSH_General_Assistant_FC_v0.01\""
   ]
  },
  {
   "cell_type": "markdown",
   "metadata": {},
   "source": [
    "#### Unquantized"
   ]
  },
  {
   "cell_type": "code",
   "execution_count": null,
   "metadata": {},
   "outputs": [],
   "source": [
    "# Load the base model\n",
    "model = AutoModelForCausalLM.from_pretrained(\n",
    "    base_model, \n",
    "    low_cpu_mem_usage=True,\n",
    "    return_dict=True,\n",
    "    torch_dtype=torch.float32  # Using standard float32 precision\n",
    ")\n",
    "\n",
    "tokenizer = AutoTokenizer.from_pretrained(base_model, trust_remote_code=True)\n",
    "\n",
    "# Ensure the model is on the CPU\n",
    "model.to('cpu')\n",
    "\n",
    "# Load LoRA and ensure it's on the CPU\n",
    "model = PeftModel.from_pretrained(model, fc_lora).to('cpu')\n",
    "\n",
    "# Now attempt to merge\n",
    "model = model.merge_and_unload()\n",
    "\n",
    "model.save_pretrained(save_path)\n",
    "tokenizer.save_pretrained(save_path)"
   ]
  },
  {
   "cell_type": "markdown",
   "metadata": {},
   "source": [
    "### Quantized"
   ]
  },
  {
   "cell_type": "code",
   "execution_count": null,
   "metadata": {},
   "outputs": [],
   "source": [
    "# Load base model (Mistral 7B)\n",
    "\n",
    "# Quantization Configuration\n",
    "bnb_config = BitsAndBytesConfig(\n",
    "    load_in_4bit=True,\n",
    "    bnb_4bit_quant_type=\"nf4\",\n",
    "    bnb_4bit_compute_dtype=torch.bfloat16,\n",
    "    bnb_4bit_use_double_quant=False,\n",
    ")\n",
    "# Load the base model\n",
    "model = AutoModelForCausalLM.from_pretrained(\n",
    "    base_model, \n",
    "    quantization_config=bnb_config,\n",
    "    low_cpu_mem_usage=True,\n",
    "    return_dict=True,\n",
    "    torch_dtype=torch.bfloat16\n",
    ")\n",
    "\n",
    "# Load Tokenizer\n",
    "tokenizer = AutoTokenizer.from_pretrained(base_model, trust_remote_code=True)\n",
    "\n",
    "# Ensure the model is on the CPU\n",
    "model.to('cpu')\n",
    "\n",
    "# Load LoRA and ensure it's on the CPU\n",
    "model = PeftModel.from_pretrained(model, fc_lora).to('cpu')\n",
    "\n",
    "# Now attempt to merge\n",
    "model = model.merge_and_unload()\n",
    "\n",
    "# model.save_pretrained(save_path)\n",
    "# tokenizer.save_pretrained(save_path)"
   ]
  },
  {
   "cell_type": "code",
   "execution_count": null,
   "metadata": {},
   "outputs": [],
   "source": [
    "# Load Lora\n",
    "device = torch.device(\"cuda:0\" if torch.cuda.is_available() else \"cpu\")\n",
    "\n",
    "# Load lora and ensure it's on the same device\n",
    "model = PeftModel.from_pretrained(model, fc_lora).to(device)\n",
    "model = PeftModel.from_pretrained(model, hush_lora).to(device)\n",
    "\n",
    "# Now attempt to merge\n",
    "model = model.merge_and_unload()\n",
    "\n",
    "model.save_pretrained(save_path)\n",
    "tokenizer.save_pretrained(save_path)"
   ]
  },
  {
   "cell_type": "code",
   "execution_count": null,
   "metadata": {},
   "outputs": [],
   "source": [
    "# Define the stream function for testing\n",
    "def stream(user_prompt, temp, tokens):\n",
    "    runtimeFlag = \"cuda:0\"\n",
    "    prompt = \"\"\"\n",
    "    <|system|>You are a function calling assistant.\n",
    "    <|definition|>\n",
    "{\n",
    "    \"name\": \"search_internet\",\n",
    "    \"description\": \"When the user requests the assistant to search the internet or do research, the assistant will search the internet for the answer and return the results.\",\n",
    "    \"parameters\": {\n",
    "        \"type\": \"object\",\n",
    "        \"properties\": {\n",
    "            \"search_term\": {\n",
    "                \"type\": \"string\",\n",
    "                \"description\": \"Search term to search the internet for and analyze results.\",\n",
    "            }\n",
    "        },\n",
    "        \"required\": [\n",
    "            \"search_term\"\n",
    "        ]\n",
    "    }\n",
    "}</s>\n",
    "    <|user|>\"\"\"+user_prompt+\"</s>\"\n",
    "    print(prompt)\n",
    "    inputs = tokenizer([prompt], return_tensors=\"pt\").to(runtimeFlag)\n",
    "\n",
    "    streamer = TextStreamer(tokenizer, skip_prompt=True, skip_special_tokens=True)\n",
    "\n",
    "    _ = model.generate(**inputs, streamer=streamer, max_new_tokens=tokens, do_sample=True, temperature=temp)"
   ]
  },
  {
   "cell_type": "code",
   "execution_count": null,
   "metadata": {},
   "outputs": [],
   "source": [
    "stream(user_prompt=\"can you search the internet for pizza places in iowa city?\", temp=.1, tokens=3000)"
   ]
  }
 ],
 "metadata": {
  "kernelspec": {
   "display_name": "Python 3 (ipykernel)",
   "language": "python",
   "name": "python3"
  },
  "language_info": {
   "codemirror_mode": {
    "name": "ipython",
    "version": 3
   },
   "file_extension": ".py",
   "mimetype": "text/x-python",
   "name": "python",
   "nbconvert_exporter": "python",
   "pygments_lexer": "ipython3",
   "version": "3.10.13"
  }
 },
 "nbformat": 4,
 "nbformat_minor": 2
}
